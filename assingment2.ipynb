{
 "cells": [
  {
   "cell_type": "code",
   "execution_count": 1,
   "id": "10980f6b-9e55-4252-9586-2ca3edb8284c",
   "metadata": {},
   "outputs": [],
   "source": [
    "#Q1 Explain with an examole each when to use a for loop and a while loop."
   ]
  },
  {
   "cell_type": "code",
   "execution_count": null,
   "id": "f4367b81-7480-40fa-a33f-a453e5c1a8d2",
   "metadata": {},
   "outputs": [],
   "source": [
    "#A1 use for loop when you know the loop should execute n times. use a while loop for reading a file into into a variable .\n",
    "#use a while loop when asking for user input . \n",
    "#use a while loop when the increment value is non standard."
   ]
  },
  {
   "cell_type": "code",
   "execution_count": 2,
   "id": "6750f240-7afc-4318-9189-7d03e12bfae8",
   "metadata": {},
   "outputs": [],
   "source": [
    "#example "
   ]
  },
  {
   "cell_type": "code",
   "execution_count": 4,
   "id": "56f24a5f-430f-4ad8-8500-f543be27f2ca",
   "metadata": {},
   "outputs": [
    {
     "name": "stdin",
     "output_type": "stream",
     "text": [
      "enter the no. 6\n"
     ]
    },
    {
     "name": "stdout",
     "output_type": "stream",
     "text": [
      "0\n",
      "1\n",
      "1\n",
      "2\n",
      "3\n",
      "5\n"
     ]
    }
   ],
   "source": [
    "number=int(input(\"enter the no.\"))\n",
    "a,b=0,1\n",
    "counter=0\n",
    "while counter<number:\n",
    "    print(a)\n",
    "    c=a+b\n",
    "    a=b\n",
    "    b=c\n",
    "    counter=counter+1"
   ]
  },
  {
   "cell_type": "code",
   "execution_count": 5,
   "id": "d82c65cf-ab30-4f3a-ad66-f1f2a6618435",
   "metadata": {},
   "outputs": [
    {
     "name": "stdout",
     "output_type": "stream",
     "text": [
      "0\n",
      "1\n",
      "1\n",
      "2\n",
      "3\n",
      "5\n"
     ]
    }
   ],
   "source": [
    "a=0\n",
    "b=1\n",
    "for i in range(6):\n",
    "    print(a)\n",
    "    c=a+b\n",
    "    a=b\n",
    "    b=c"
   ]
  },
  {
   "cell_type": "code",
   "execution_count": 6,
   "id": "69ee7d63-6446-40b7-aad9-335252f928ae",
   "metadata": {},
   "outputs": [],
   "source": [
    "#Q1 write a python program to print sum and product of the first 10 natural numbers usin for and while loop."
   ]
  },
  {
   "cell_type": "code",
   "execution_count": 7,
   "id": "4d945a4a-4aef-449f-9d8c-fffea5e1dfec",
   "metadata": {},
   "outputs": [],
   "source": [
    "#A1 sum of first n nstursl no.= n(n+1)/2 "
   ]
  },
  {
   "cell_type": "code",
   "execution_count": 4,
   "id": "7942b5ba-81fa-47ca-ad3f-8809bfd25f5a",
   "metadata": {},
   "outputs": [
    {
     "name": "stdin",
     "output_type": "stream",
     "text": [
      "inter the number 10\n"
     ]
    },
    {
     "name": "stdout",
     "output_type": "stream",
     "text": [
      "55.0\n"
     ]
    }
   ],
   "source": [
    "number=int(input(\"inter the number\"))\n",
    "counter=0\n",
    "while counter<=number:\n",
    "    counter=number*(number+1)/2\n",
    "    counter=counter+1\n",
    "counter=counter-1\n",
    "print(counter)"
   ]
  },
  {
   "cell_type": "code",
   "execution_count": 9,
   "id": "094bea34-b3b7-4e62-87d7-4a5638d2d117",
   "metadata": {},
   "outputs": [
    {
     "name": "stdout",
     "output_type": "stream",
     "text": [
      "55\n"
     ]
    }
   ],
   "source": [
    "sum=0\n",
    "for i in range(11):\n",
    "    sum=sum+i\n",
    "    \n",
    "print(sum)"
   ]
  },
  {
   "cell_type": "code",
   "execution_count": 10,
   "id": "d0a85425-ce8e-40c0-9c0b-41bd2a16b26c",
   "metadata": {},
   "outputs": [
    {
     "name": "stdin",
     "output_type": "stream",
     "text": [
      "enter your noumber 5\n"
     ]
    },
    {
     "name": "stdout",
     "output_type": "stream",
     "text": [
      "120\n"
     ]
    }
   ],
   "source": [
    "  number=int(input(\"enter your noumber\"))\n",
    "  product=1\n",
    "  while number>0:\n",
    "        product=product*number\n",
    "        number=number-1\n",
    "  print(product)"
   ]
  },
  {
   "cell_type": "code",
   "execution_count": 14,
   "id": "85318cd8-0450-49b8-8359-633dd2ec55c1",
   "metadata": {},
   "outputs": [
    {
     "name": "stdout",
     "output_type": "stream",
     "text": [
      "120\n"
     ]
    }
   ],
   "source": [
    "n=1\n",
    "for i in range(1,6):\n",
    "    n=n*i\n",
    "print(n)"
   ]
  },
  {
   "cell_type": "code",
   "execution_count": 15,
   "id": "7e45e027-6a69-4f59-9acd-82d53cefa752",
   "metadata": {},
   "outputs": [],
   "source": [
    "#Q3 Create a list of numbers from 1 to 100. Use for loop and while loop to calculate the cube of each \n",
    "#number and if the cube of that number is divisible by 4 or 5 then append that number in a list and print \n",
    "#that list."
   ]
  },
  {
   "cell_type": "code",
   "execution_count": 42,
   "id": "2626cf4e-93c5-48b0-ae94-5bac50e54233",
   "metadata": {},
   "outputs": [
    {
     "name": "stdout",
     "output_type": "stream",
     "text": [
      "[2, 4, 5, 6, 8, 10, 12, 14, 15, 16, 18, 20, 22, 24, 25, 26, 28, 30, 32, 34, 35, 36, 38, 40, 42, 44, 45, 46, 48, 50, 52, 54, 55, 56, 58, 60, 62, 64, 65, 66, 68, 70, 72, 74, 75, 76, 78, 80, 82, 84, 85, 86, 88, 90, 92, 94, 95, 96, 98, 100]\n"
     ]
    }
   ],
   "source": [
    "cubes = []\n",
    "for i in range(1, 101):\n",
    "    cube = i ** 3\n",
    "    if cube % 4 == 0 or cube % 5 == 0:\n",
    "        cubes.append(i)\n",
    "print(cubes)\n",
    "\n",
    "    \n",
    "    \n",
    "\n",
    "    "
   ]
  },
  {
   "cell_type": "code",
   "execution_count": 44,
   "id": "6f0b0707-13de-4b80-9651-5b67ef2bf46e",
   "metadata": {},
   "outputs": [
    {
     "name": "stdout",
     "output_type": "stream",
     "text": [
      "[2, 4, 5, 6, 8, 10, 12, 14, 15, 16, 18, 20, 22, 24, 25, 26, 28, 30, 32, 34, 35, 36, 38, 40, 42, 44, 45, 46, 48, 50, 52, 54, 55, 56, 58, 60, 62, 64, 65, 66, 68, 70, 72, 74, 75, 76, 78, 80, 82, 84, 85, 86, 88, 90, 92, 94, 95, 96, 98, 100]\n"
     ]
    }
   ],
   "source": [
    "cubes = []\n",
    "i = 1\n",
    "while i <= 100:\n",
    "    cube = i ** 3\n",
    "    if cube % 4 == 0 or cube % 5 == 0:\n",
    "        cubes.append(i)\n",
    "    i = i+1\n",
    "print(cubes)"
   ]
  },
  {
   "cell_type": "code",
   "execution_count": 45,
   "id": "8862ece9-f813-4f96-adcf-7ab71a3ef448",
   "metadata": {},
   "outputs": [],
   "source": [
    "#Q4 Write a program to filter count vowels in the below-given string.\n",
    "#string = \"I want to become a data scientist\""
   ]
  },
  {
   "cell_type": "code",
   "execution_count": 48,
   "id": "2aa8edeb-8083-4a4d-bc0b-c128c7e99058",
   "metadata": {},
   "outputs": [
    {
     "name": "stdout",
     "output_type": "stream",
     "text": [
      "The number of vowels in the given string is: 12\n"
     ]
    }
   ],
   "source": [
    "string = \"I want to become a data scientist\"\n",
    "vowels = \"aeiou\"\n",
    "vowel_count = 0\n",
    "\n",
    "for char in string:\n",
    "    if char.lower() in vowels:\n",
    "        vowel_count = vowel_count + 1\n",
    "\n",
    "print(\"The number of vowels in the given string is:\", vowel_count)"
   ]
  },
  {
   "cell_type": "code",
   "execution_count": null,
   "id": "8e177dc3-38b7-42fe-b268-15e163202173",
   "metadata": {},
   "outputs": [],
   "source": [
    "# #Q5 Q3. Q3. Create a python program to compute the electricity bill for a household.\n",
    "# The per-unit charges in rupees are as follows: For the first 100 units, the user will be charged Rs. 4.5 per \n",
    "# unit, for the next 100 units, the user will be charged Rs. 6 per unit, and for the next 100 units, the user will \n",
    "# be charged Rs. 10 per unit, After 300 units and above the user will be charged Rs. 20 per unit.\n",
    "\n",
    "\n",
    "# You are required to take the units of electricity consumed in a month from the user as input.\n",
    "\n",
    "\n",
    "# Your program must pass this test case: when the unit of electricity consumed by the user in a month is \n",
    "# 310, the total electricity bill should be 2250"
   ]
  },
  {
   "cell_type": "code",
   "execution_count": 49,
   "id": "4a3db1cd-f29c-4108-9a8b-fdb7829ef369",
   "metadata": {},
   "outputs": [
    {
     "name": "stdin",
     "output_type": "stream",
     "text": [
      "Enter the units consumed:  310\n"
     ]
    },
    {
     "name": "stdout",
     "output_type": "stream",
     "text": [
      "Electricity bill amount: Rs. 2250.0\n"
     ]
    }
   ],
   "source": [
    "# take user input for units consumed\n",
    "units = int(input(\"Enter the units consumed: \"))\n",
    "\n",
    "# initialize bill amount\n",
    "bill_amount = 0\n",
    "\n",
    "# calculate bill amount based on per-unit charges\n",
    "if units <= 100:\n",
    "    bill_amount = units * 4.5\n",
    "elif units <= 200:\n",
    "    bill_amount = 100 * 4.5 + (units - 100) * 6\n",
    "elif units <= 300:\n",
    "    bill_amount = 100 * 4.5 + 100 * 6 + (units - 200) * 10\n",
    "else:\n",
    "    bill_amount = 100 * 4.5 + 100 * 6 + 100 * 10 + (units - 300) * 20\n",
    "\n",
    "# print the bill amount\n",
    "print(\"Electricity bill amount: Rs.\", bill_amount)"
   ]
  },
  {
   "cell_type": "code",
   "execution_count": null,
   "id": "20539f52-798b-441b-91be-767fe6a7a385",
   "metadata": {},
   "outputs": [],
   "source": []
  }
 ],
 "metadata": {
  "kernelspec": {
   "display_name": "Python 3 (ipykernel)",
   "language": "python",
   "name": "python3"
  },
  "language_info": {
   "codemirror_mode": {
    "name": "ipython",
    "version": 3
   },
   "file_extension": ".py",
   "mimetype": "text/x-python",
   "name": "python",
   "nbconvert_exporter": "python",
   "pygments_lexer": "ipython3",
   "version": "3.10.8"
  }
 },
 "nbformat": 4,
 "nbformat_minor": 5
}
